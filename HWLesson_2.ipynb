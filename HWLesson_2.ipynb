{
 "cells": [
  {
   "cell_type": "markdown",
   "metadata": {
    "id": "kaGU7KeR6rzi"
   },
   "source": [
    "### Урок 2. Масштабирование признаков. Регуляризация. Стохастический градиентный спуск"
   ]
  },
  {
   "cell_type": "code",
   "execution_count": 1,
   "metadata": {
    "id": "_u5bV-OlT34p"
   },
   "outputs": [],
   "source": [
    "import numpy as np\n",
    "import matplotlib.pyplot as plt"
   ]
  },
  {
   "cell_type": "code",
   "execution_count": 2,
   "metadata": {
    "id": "_n6il-AZaLuA"
   },
   "outputs": [],
   "source": [
    "X = np.array([[1, 1, 1, 1, 1, 1, 1, 1, 1, 1],\n",
    "              [1, 1, 2, 5, 3, 0, 5, 10, 1, 2],\n",
    "              [500, 700, 750, 600, 1450, 800, 1500, 2000, 450, 1000],\n",
    "              [1, 1, 2, 1, 2, 1, 3, 3, 1, 2]])"
   ]
  },
  {
   "cell_type": "code",
   "execution_count": 3,
   "metadata": {
    "id": "x8yoci01ni-t"
   },
   "outputs": [],
   "source": [
    "y = [45, 55, 50, 55, 60, 35, 75, 80, 50, 60]"
   ]
  },
  {
   "cell_type": "markdown",
   "metadata": {
    "id": "shECgzyW6rz5"
   },
   "source": [
    "Нормализация [0, 1]"
   ]
  },
  {
   "cell_type": "code",
   "execution_count": 4,
   "metadata": {
    "colab": {
     "base_uri": "https://localhost:8080/",
     "height": 34
    },
    "id": "Ei5qeZO_aT6m",
    "outputId": "087819d3-202a-46c9-f87d-49e17953099c"
   },
   "outputs": [
    {
     "data": {
      "text/plain": [
       "(0, 10)"
      ]
     },
     "execution_count": 4,
     "metadata": {},
     "output_type": "execute_result"
    }
   ],
   "source": [
    "X[1].min(), X[1].max()"
   ]
  },
  {
   "cell_type": "code",
   "execution_count": 5,
   "metadata": {
    "colab": {
     "base_uri": "https://localhost:8080/",
     "height": 34
    },
    "id": "L7wsW1Q7b4Ts",
    "outputId": "911044d6-32c1-475a-80cd-cbaf26d5ba32"
   },
   "outputs": [
    {
     "data": {
      "text/plain": [
       "(450, 2000)"
      ]
     },
     "execution_count": 5,
     "metadata": {},
     "output_type": "execute_result"
    }
   ],
   "source": [
    "X[2].min(), X[2].max()"
   ]
  },
  {
   "cell_type": "code",
   "execution_count": 6,
   "metadata": {
    "colab": {
     "base_uri": "https://localhost:8080/",
     "height": 121
    },
    "id": "E55S9Bzob9Xa",
    "outputId": "4abf56a2-d484-4c24-8520-8ed1b58ccca8"
   },
   "outputs": [
    {
     "data": {
      "text/plain": [
       "array([[1.00e+00, 1.00e+00, 1.00e+00, 1.00e+00, 1.00e+00, 1.00e+00,\n",
       "        1.00e+00, 1.00e+00, 1.00e+00, 1.00e+00],\n",
       "       [1.00e+00, 1.00e+00, 2.00e+00, 5.00e+00, 3.00e+00, 0.00e+00,\n",
       "        5.00e+00, 1.00e+01, 1.00e+00, 2.00e+00],\n",
       "       [5.00e+02, 7.00e+02, 7.50e+02, 6.00e+02, 1.45e+03, 8.00e+02,\n",
       "        1.50e+03, 2.00e+03, 4.50e+02, 1.00e+03],\n",
       "       [1.00e+00, 1.00e+00, 2.00e+00, 1.00e+00, 2.00e+00, 1.00e+00,\n",
       "        3.00e+00, 3.00e+00, 1.00e+00, 2.00e+00]])"
      ]
     },
     "execution_count": 6,
     "metadata": {},
     "output_type": "execute_result"
    }
   ],
   "source": [
    "X_norm = X.copy()\n",
    "X_norm = X_norm.astype(np.float64)\n",
    "X_norm"
   ]
  },
  {
   "cell_type": "code",
   "execution_count": 7,
   "metadata": {
    "colab": {
     "base_uri": "https://localhost:8080/",
     "height": 121
    },
    "id": "7x-6IuPOcIo0",
    "outputId": "1668fec7-37ae-4671-ad9f-f093c30a6c72"
   },
   "outputs": [
    {
     "data": {
      "text/plain": [
       "array([[1.00e+00, 1.00e+00, 1.00e+00, 1.00e+00, 1.00e+00, 1.00e+00,\n",
       "        1.00e+00, 1.00e+00, 1.00e+00, 1.00e+00],\n",
       "       [1.00e-01, 1.00e-01, 2.00e-01, 5.00e-01, 3.00e-01, 0.00e+00,\n",
       "        5.00e-01, 1.00e+00, 1.00e-01, 2.00e-01],\n",
       "       [5.00e+02, 7.00e+02, 7.50e+02, 6.00e+02, 1.45e+03, 8.00e+02,\n",
       "        1.50e+03, 2.00e+03, 4.50e+02, 1.00e+03],\n",
       "       [1.00e+00, 1.00e+00, 2.00e+00, 1.00e+00, 2.00e+00, 1.00e+00,\n",
       "        3.00e+00, 3.00e+00, 1.00e+00, 2.00e+00]])"
      ]
     },
     "execution_count": 7,
     "metadata": {},
     "output_type": "execute_result"
    }
   ],
   "source": [
    "X_norm[1] = (X[1] - X[1].min()) / (X[1].max() - X[1].min())\n",
    "X_norm"
   ]
  },
  {
   "cell_type": "code",
   "execution_count": 8,
   "metadata": {
    "colab": {
     "base_uri": "https://localhost:8080/",
     "height": 121
    },
    "id": "izkMRdXFcjyK",
    "outputId": "982b8c8d-629d-4c4a-a3d5-67854cee4a4a"
   },
   "outputs": [
    {
     "data": {
      "text/plain": [
       "array([[1.        , 1.        , 1.        , 1.        , 1.        ,\n",
       "        1.        , 1.        , 1.        , 1.        , 1.        ],\n",
       "       [0.1       , 0.1       , 0.2       , 0.5       , 0.3       ,\n",
       "        0.        , 0.5       , 1.        , 0.1       , 0.2       ],\n",
       "       [0.03225806, 0.16129032, 0.19354839, 0.09677419, 0.64516129,\n",
       "        0.22580645, 0.67741935, 1.        , 0.        , 0.35483871],\n",
       "       [1.        , 1.        , 2.        , 1.        , 2.        ,\n",
       "        1.        , 3.        , 3.        , 1.        , 2.        ]])"
      ]
     },
     "execution_count": 8,
     "metadata": {},
     "output_type": "execute_result"
    }
   ],
   "source": [
    "X_norm[2] = (X[2] - X[2].min()) / (X[2].max() - X[2].min())\n",
    "X_norm"
   ]
  },
  {
   "cell_type": "markdown",
   "metadata": {
    "id": "Zy63bpFfeqzu"
   },
   "source": [
    "Стандартизация"
   ]
  },
  {
   "cell_type": "code",
   "execution_count": 9,
   "metadata": {
    "colab": {
     "base_uri": "https://localhost:8080/",
     "height": 317
    },
    "id": "8i9pB-3-fMD4",
    "outputId": "3cbe76f6-d000-4fcd-fe86-ffe853403356"
   },
   "outputs": [
    {
     "data": {
      "image/png": "[encoded data removed]",
      "text/plain": [
       "<Figure size 432x288 with 1 Axes>"
      ]
     },
     "metadata": {
      "needs_background": "light"
     },
     "output_type": "display_data"
    }
   ],
   "source": [
    "plt.hist(X[1])\n",
    "plt.show()"
   ]
  },
  {
   "cell_type": "code",
   "execution_count": 10,
   "metadata": {
    "colab": {
     "base_uri": "https://localhost:8080/",
     "height": 335
    },
    "id": "-bnAYQqVfRX-",
    "outputId": "d59b0013-49bc-40fa-cb29-e71403e6e9e0"
   },
   "outputs": [
    {
     "data": {
      "image/png": "[encoded data removed]",
      "text/plain": [
       "<Figure size 432x288 with 1 Axes>"
      ]
     },
     "metadata": {
      "needs_background": "light"
     },
     "output_type": "display_data"
    }
   ],
   "source": [
    "plt.hist(X[2])\n",
    "plt.show()"
   ]
  },
  {
   "cell_type": "code",
   "execution_count": 11,
   "metadata": {
    "id": "M57-Pzl_f_rF",
    "outputId": "b8f0b94e-715a-448e-e6d1-270ad75a3350"
   },
   "outputs": [
    {
     "name": "stdout",
     "output_type": "stream",
     "text": [
      "3.0 2.8284271247461903\n"
     ]
    }
   ],
   "source": [
    "X_st = X.copy().astype(np.float64)\n",
    "X1_mean = X[1].mean()\n",
    "X1_std = X[1].std()\n",
    "print(X1_mean, X1_std)"
   ]
  },
  {
   "cell_type": "code",
   "execution_count": 12,
   "metadata": {
    "colab": {
     "base_uri": "https://localhost:8080/",
     "height": 294
    },
    "id": "btJMY0YbgKLb",
    "outputId": "40010205-def9-4582-9a5d-e513e85b7a4e"
   },
   "outputs": [
    {
     "data": {
      "text/plain": [
       "array([[ 1.00000000e+00,  1.00000000e+00,  1.00000000e+00,\n",
       "         1.00000000e+00,  1.00000000e+00,  1.00000000e+00,\n",
       "         1.00000000e+00,  1.00000000e+00,  1.00000000e+00,\n",
       "         1.00000000e+00],\n",
       "       [-7.07106781e-01, -7.07106781e-01, -3.53553391e-01,\n",
       "         7.07106781e-01,  0.00000000e+00, -1.06066017e+00,\n",
       "         7.07106781e-01,  2.47487373e+00, -7.07106781e-01,\n",
       "        -3.53553391e-01],\n",
       "       [ 5.00000000e+02,  7.00000000e+02,  7.50000000e+02,\n",
       "         6.00000000e+02,  1.45000000e+03,  8.00000000e+02,\n",
       "         1.50000000e+03,  2.00000000e+03,  4.50000000e+02,\n",
       "         1.00000000e+03],\n",
       "       [ 1.00000000e+00,  1.00000000e+00,  2.00000000e+00,\n",
       "         1.00000000e+00,  2.00000000e+00,  1.00000000e+00,\n",
       "         3.00000000e+00,  3.00000000e+00,  1.00000000e+00,\n",
       "         2.00000000e+00]])"
      ]
     },
     "execution_count": 12,
     "metadata": {},
     "output_type": "execute_result"
    }
   ],
   "source": [
    "X_st[1] = (X[1] - X1_mean) / X1_std\n",
    "X_st"
   ]
  },
  {
   "cell_type": "code",
   "execution_count": 13,
   "metadata": {
    "colab": {
     "base_uri": "https://localhost:8080/",
     "height": 352
    },
    "id": "-Y1tzWGCgYjA",
    "outputId": "89dc21fe-180f-4e68-f30f-1cf276c4f154"
   },
   "outputs": [
    {
     "data": {
      "image/png": "[encoded data removed]",
      "text/plain": [
       "<Figure size 432x288 with 1 Axes>"
      ]
     },
     "metadata": {
      "needs_background": "light"
     },
     "output_type": "display_data"
    }
   ],
   "source": [
    "plt.hist(X_st[1])\n",
    "plt.show()"
   ]
  },
  {
   "cell_type": "code",
   "execution_count": 14,
   "metadata": {
    "id": "ZlJUBOyzgkJV"
   },
   "outputs": [],
   "source": [
    "def calc_std_fit(x):\n",
    "    res = (x - x.mean()) / x.std()\n",
    "    return res"
   ]
  },
  {
   "cell_type": "code",
   "execution_count": 15,
   "metadata": {
    "id": "6PlDlFY0hGZA"
   },
   "outputs": [],
   "source": [
    "X_st[2] = calc_std_fit(X[2])"
   ]
  },
  {
   "cell_type": "code",
   "execution_count": 16,
   "metadata": {
    "colab": {
     "base_uri": "https://localhost:8080/",
     "height": 155
    },
    "id": "LOKhmhJjt9TR",
    "outputId": "2b131d78-9066-462b-dfa9-778758f3d363"
   },
   "outputs": [
    {
     "data": {
      "text/plain": [
       "array([[ 1.        ,  1.        ,  1.        ,  1.        ,  1.        ,\n",
       "         1.        ,  1.        ,  1.        ,  1.        ,  1.        ],\n",
       "       [-0.70710678, -0.70710678, -0.35355339,  0.70710678,  0.        ,\n",
       "        -1.06066017,  0.70710678,  2.47487373, -0.70710678, -0.35355339],\n",
       "       [-0.97958969, -0.56713087, -0.46401617, -0.77336028,  0.97958969,\n",
       "        -0.36090146,  1.08270439,  2.11385144, -1.08270439,  0.05155735],\n",
       "       [-0.89625816, -0.89625816,  0.38411064, -0.89625816,  0.38411064,\n",
       "        -0.89625816,  1.66447944,  1.66447944, -0.89625816,  0.38411064]])"
      ]
     },
     "execution_count": 16,
     "metadata": {},
     "output_type": "execute_result"
    }
   ],
   "source": [
    "X_st[3] = calc_std_fit(X[3])\n",
    "X_st"
   ]
  },
  {
   "cell_type": "markdown",
   "metadata": {
    "id": "UdGy9tjVhZol"
   },
   "source": [
    "SGD (Stochastic gradient descent)"
   ]
  },
  {
   "cell_type": "code",
   "execution_count": 17,
   "metadata": {
    "id": "VDpN7UxYnrcS"
   },
   "outputs": [],
   "source": [
    "def calc_mse(y, y_pred):\n",
    "    err = np.mean((y - y_pred)**2)\n",
    "    return err"
   ]
  },
  {
   "cell_type": "code",
   "execution_count": 18,
   "metadata": {
    "id": "SgEyis2zlJeb"
   },
   "outputs": [],
   "source": [
    "def eval_model(X, y, iterations, alpha=1e-4):\n",
    "    W = np.random.randn(X.shape[0])\n",
    "    n = X.shape[1]\n",
    "    for i in range(1, iterations+1):\n",
    "        y_pred = np.dot(W, X)\n",
    "        err = calc_mse(y, y_pred)\n",
    "        W -= (alpha * (1/n * 2 * np.dot((y_pred - y), X.T)))\n",
    "        if i % (iterations / 10) == 0:\n",
    "            print(i, W, err)\n",
    "    return W"
   ]
  },
  {
   "cell_type": "code",
   "execution_count": 19,
   "metadata": {
    "colab": {
     "base_uri": "https://localhost:8080/",
     "height": 207
    },
    "id": "4nsYMAGjmFlB",
    "outputId": "8959a8af-3d27-42a6-afae-5db46c794fe1"
   },
   "outputs": [
    {
     "name": "stdout",
     "output_type": "stream",
     "text": [
      "100 [49.04261542  4.49722773  3.71886843  4.06956443] 85.79012093181089\n",
      "200 [55.51100497  5.11010118  2.89774031  4.37971638] 27.737708106288\n",
      "300 [56.36883992  5.47681433  2.25043642  4.6926068 ] 26.078566062381363\n",
      "400 [56.48260561  5.71018206  1.74327686  4.98895643] 25.65795303774839\n",
      "500 [56.49769316  5.86427274  1.34121003  5.25335542] 25.400386093121732\n",
      "600 [56.49969407  5.96993804  1.01972344  5.48148002] 25.23264503198627\n",
      "700 [56.49995943  6.04506715  0.7611154   5.67438998] 25.122162983361278\n",
      "800 [56.49999462  6.1002367   0.55221446  5.83547912] 25.049045842770703\n",
      "900 [56.49999929  6.14185775  0.38297809  5.96891008] 25.000550415589107\n",
      "1000 [56.49999991  6.17393651  0.24560316  6.07884644] 24.968352975347493\n"
     ]
    },
    {
     "data": {
      "text/plain": [
       "array([56.49999991,  6.17393651,  0.24560316,  6.07884644])"
      ]
     },
     "execution_count": 19,
     "metadata": {},
     "output_type": "execute_result"
    }
   ],
   "source": [
    "eval_model(X_st, y, iterations=1000, alpha=1e-2)"
   ]
  },
  {
   "cell_type": "code",
   "execution_count": 20,
   "metadata": {
    "id": "oV_LJy4l6r0W"
   },
   "outputs": [],
   "source": [
    "def eval_sgd_model(X, y, iterations, qty_in_batch, alpha=1e-4):\n",
    "    W = np.random.randn(X.shape[0])\n",
    "    n = X.shape[1]\n",
    "    n_batch = n // qty_in_batch\n",
    "    \n",
    "    if n % qty_in_batch != 0:\n",
    "        n_batch += 1\n",
    "        \n",
    "    for i in range(1, iterations+1):\n",
    "        for b in range(n_batch):\n",
    "            start_ = qty_in_batch*b\n",
    "            end_ = qty_in_batch*(b+1)\n",
    "#             print(b, n_batch, start_, end_)\n",
    "            X_tmp = X[:, start_ : end_]\n",
    "            y_tmp = y[start_ : end_]\n",
    "\n",
    "            y_pred_tmp = np.dot(W, X_tmp)\n",
    "            err = calc_mse(y_tmp, y_pred_tmp)\n",
    "\n",
    "            W -= (alpha * (1/n * 2 * np.dot((y_pred_tmp - y_tmp), X_tmp.T)))\n",
    "        \n",
    "        if i % (iterations / 10) == 0:\n",
    "            print(i, W, err)\n",
    "    return W"
   ]
  },
  {
   "cell_type": "code",
   "execution_count": 21,
   "metadata": {
    "colab": {
     "base_uri": "https://localhost:8080/",
     "height": 207
    },
    "id": "2aXap4Vsm3GV",
    "outputId": "8b666b76-9d01-4b6d-813c-f1d3f5901f5f"
   },
   "outputs": [
    {
     "name": "stdout",
     "output_type": "stream",
     "text": [
      "500 [56.50779783  5.89994063  1.24319476  5.33287076] 13.363397891294294\n",
      "1000 [56.51045886  6.19064093  0.20544259  6.11763392] 12.04379475034709\n",
      "1500 [56.51056129  6.270158   -0.15995543  6.41577628] 11.559587963239686\n",
      "2000 [56.51059905  6.29747979 -0.29099756  6.52384014] 11.386177706750491\n",
      "2500 [56.51061268  6.30724274 -0.33811763  6.56275634] 11.32403178292805\n",
      "3000 [56.51061759  6.31075148 -0.35506745  6.57675811] 11.301712836191326\n",
      "3500 [56.51061936  6.31201353 -0.36116489  6.58179519] 11.293689029260202\n",
      "4000 [56.51061999  6.31246753 -0.36335837  6.58360722] 11.29080324653235\n",
      "4500 [56.51062022  6.31263085 -0.36414745  6.58425908] 11.289765210290344\n",
      "5000 [56.5106203   6.31268961 -0.36443131  6.58449358] 11.289391800783044\n"
     ]
    },
    {
     "data": {
      "text/plain": [
       "array([56.5106203 ,  6.31268961, -0.36443131,  6.58449358])"
      ]
     },
     "execution_count": 21,
     "metadata": {},
     "output_type": "execute_result"
    }
   ],
   "source": [
    "eval_sgd_model(X_st, y, iterations=5000, qty_in_batch=4, alpha=1e-2)"
   ]
  },
  {
   "cell_type": "markdown",
   "metadata": {
    "id": "DYTxT_6OrZpe"
   },
   "source": [
    "L1 регуляризация"
   ]
  },
  {
   "cell_type": "markdown",
   "metadata": {
    "id": "Ojkn7xKrsyiw"
   },
   "source": [
    "f(x, W) + (lambda_/2) * np.sum(np.abs(W))"
   ]
  },
  {
   "cell_type": "markdown",
   "metadata": {
    "id": "j38vId7Hvtg0"
   },
   "source": [
    "L2 регуляризация"
   ]
  },
  {
   "cell_type": "markdown",
   "metadata": {
    "id": "KO5BtZ7svv4k"
   },
   "source": [
    "f(x, W) + (lambda_/2) * np.sum(W**2)"
   ]
  },
  {
   "cell_type": "code",
   "execution_count": 22,
   "metadata": {
    "id": "7AVoe1Mswjni"
   },
   "outputs": [],
   "source": [
    "def eval_model_reg2(X, y, iterations, alpha=1e-4, lambda_=1e-8):\n",
    "    np.random.seed(42)\n",
    "    W = np.random.randn(X.shape[0])\n",
    "    n = X.shape[1]\n",
    "    for i in range(1, iterations+1):\n",
    "        y_pred = np.dot(W, X)\n",
    "        err = calc_mse(y, y_pred)\n",
    "        W -= alpha * (1/n * 2 * np.dot((y_pred - y), X.T) + lambda_ * W) \n",
    "#         if i % (iterations / 10) == 0:\n",
    "#             print(i, W, err)\n",
    "    return W"
   ]
  },
  {
   "cell_type": "code",
   "execution_count": 23,
   "metadata": {
    "colab": {
     "base_uri": "https://localhost:8080/",
     "height": 207
    },
    "id": "vLJL6j8Lw6OA",
    "outputId": "dac9ef42-5966-4404-9346-aeb18cca83c6"
   },
   "outputs": [],
   "source": [
    "W = eval_model_reg2(X_st, y, iterations=5000, alpha=1e-2, lambda_=1e-4)"
   ]
  },
  {
   "cell_type": "code",
   "execution_count": 24,
   "metadata": {
    "colab": {
     "base_uri": "https://localhost:8080/",
     "height": 207
    },
    "id": "bBGdLA7I6r0f",
    "outputId": "8959a8af-3d27-42a6-afae-5db46c794fe1"
   },
   "outputs": [
    {
     "name": "stdout",
     "output_type": "stream",
     "text": [
      "500 [56.49767254  5.83477719  1.36781865  5.25424451] 25.413829625514786\n",
      "1000 [56.4999999   6.17124081  0.25269258  6.07416416] 24.969784391475404\n",
      "1500 [56.5         6.2575128  -0.13774522  6.39128671] 24.913059475565486\n",
      "2000 [56.5         6.28678323 -0.27772011  6.50655795] 24.90571241785009\n",
      "2500 [56.5         6.29722767 -0.32807425  6.54810646] 24.904760553791704\n",
      "3000 [56.5         6.30098239 -0.34619733  6.56306445] 24.904637232271696\n",
      "3500 [56.5         6.30233363 -0.3527205   6.5684486 ] 24.9046212549912\n",
      "4000 [56.5         6.30281999 -0.35506846  6.57038658] 24.904619185007856\n",
      "4500 [56.5         6.30299505 -0.35591359  6.57108415] 24.904618916825108\n",
      "5000 [56.5         6.30305806 -0.35621778  6.57133523] 24.904618882079912\n"
     ]
    },
    {
     "data": {
      "text/plain": [
       "array([56.5       ,  6.30305806, -0.35621778,  6.57133523])"
      ]
     },
     "execution_count": 24,
     "metadata": {},
     "output_type": "execute_result"
    }
   ],
   "source": [
    "eval_model(X_st, y, iterations=5000, alpha=1e-2)"
   ]
  },
  {
   "cell_type": "markdown",
   "metadata": {
    "id": "gKDejdRT6r0g"
   },
   "source": [
    "### Практическое задание"
   ]
  },
  {
   "cell_type": "markdown",
   "metadata": {
    "id": "S3bTX7yz6r0g"
   },
   "source": [
    "* Постройте график зависимости весов всех признаков от lambda в L2-регуляризации на основе данных из урока."
   ]
  },
  {
   "cell_type": "markdown",
   "metadata": {
    "id": "ZIbh5rKr6r0n"
   },
   "source": [
    "* Можно ли к одному и тому же признаку применить сразу и нормализацию, и стандартизацию?"
   ]
  },
  {
   "cell_type": "markdown",
   "metadata": {
    "id": "uJQtO2UB6r0n"
   },
   "source": [
    "* Напишите функцию наподобие eval_model_reg2, но для применения L1-регуляризации."
   ]
  },
  {
   "cell_type": "code",
   "execution_count": 25,
   "metadata": {},
   "outputs": [],
   "source": [
    "lambdas = list(np.linspace(0.001, 1, 1000))\n",
    "weights = {i: [] for i in range(X_st.shape[0])}\n",
    "\n",
    "for l in lambdas:\n",
    "    result = eval_model_reg2(X_st, y, iterations=5000, alpha=1e-2, lambda_=l)\n",
    "    for key, value in enumerate(result):\n",
    "        weights[key].append(value)"
   ]
  },
  {
   "cell_type": "code",
   "execution_count": 30,
   "metadata": {
    "id": "OX4r_PNv6r0o"
   },
   "outputs": [
    {
     "data": {
      "image/png": "[encoded data removed]",
      "text/plain": [
       "<Figure size 576x576 with 4 Axes>"
      ]
     },
     "metadata": {
      "needs_background": "light"
     },
     "output_type": "display_data"
    }
   ],
   "source": [
    "fig, axs = plt.subplots(2, 2, figsize=(8, 8))\n",
    "\n",
    "axs[0][0].plot(lambdas, weights[0], c='red');\n",
    "axs[0][0].set_title('feat#1')\n",
    "\n",
    "axs[0][1].plot(lambdas, weights[1], c='green');\n",
    "axs[0][1].set_title('feat#2')\n",
    "\n",
    "axs[1][0].plot(lambdas, weights[2], c='blue');\n",
    "axs[1][0].set_title('feat#3')\n",
    "\n",
    "axs[1][1].plot(lambdas, weights[3], c='purple');\n",
    "axs[1][1].set_title('feat#4')\n",
    "\n",
    "for ax in axs.flat:\n",
    "    ax.set(xlabel='lambda', ylabel='weight');\n",
    "    ax.label_outer();"
   ]
  },
  {
   "cell_type": "markdown",
   "metadata": {},
   "source": [
    "Можно ли к одному и тому же признаку применить сразу и нормализацию, и стандартизацию? Нормализацию и стандартизацию применить к одному и тому же признаку последовательно можно. Но на практике это не имеет смыла, так как нормализация и стандартизация применяются для разных задач."
   ]
  },
  {
   "cell_type": "code",
   "execution_count": 27,
   "metadata": {},
   "outputs": [
    {
     "name": "stdout",
     "output_type": "stream",
     "text": [
      "[0.1 0.1 0.2 0.5 0.3 0.  0.5 1.  0.1 0.2]\n"
     ]
    }
   ],
   "source": [
    "class Scaler:\n",
    "    \n",
    "    @staticmethod\n",
    "    def normalize(x: np.ndarray) -> np.ndarray:\n",
    "        return (x - x.min()) / (x.max() - x.min())\n",
    "    \n",
    "    @staticmethod\n",
    "    def standartize(x: np.ndarray) -> np.ndarray:\n",
    "        return (x - x.mean()) / x.std()\n",
    "\n",
    "scaler = Scaler()\n",
    "\n",
    "print(scaler.normalize(scaler.standartize(X[1])))"
   ]
  },
  {
   "cell_type": "markdown",
   "metadata": {},
   "source": [
    "Напишите функцию наподобие eval_model_reg2, но для применения L1-регуляризации *."
   ]
  },
  {
   "cell_type": "code",
   "execution_count": 28,
   "metadata": {},
   "outputs": [
    {
     "name": "stdout",
     "output_type": "stream",
     "text": [
      "# итерация: 500, MSE: 25.23723048428872, веса: [56.49765252  5.89983016  1.03995035  5.52753399]\n",
      "# итерация: 1000, MSE: 24.946863925110584, веса: [56.49994991  6.19557479  0.13437972  6.1719267 ]\n",
      "# итерация: 1500, MSE: 24.910108007836477, веса: [56.49995     6.26619417 -0.18003166  6.42624591]\n",
      "# итерация: 2000, MSE: 24.905338328495585, веса: [56.49995     6.28977817 -0.29255956  6.51886362]\n",
      "# итерация: 2500, MSE: 24.90471511007812, веса: [56.49995     6.29817619 -0.33303449  6.55225795]\n",
      "# итерация: 3000, MSE: 24.904632468343543, веса: [56.49995     6.30119434 -0.34760164  6.56428089]\n",
      "# итерация: 3500, MSE: 24.904621077947183, веса: [56.49995     6.30228045 -0.35284488  6.5686086 ]\n",
      "# итерация: 4000, MSE: 24.904619356208052, веса: [56.49995     6.30267138 -0.35473214  6.57016633]\n",
      "# итерация: 4500, MSE: 24.904619044589147, веса: [56.49995     6.30281209 -0.35541145  6.57072702]\n",
      "# итерация: 5000, MSE: 24.90461897234217, веса: [56.49995     6.30286274 -0.35565596  6.57092884]\n"
     ]
    },
    {
     "data": {
      "text/plain": [
       "array([56.49995   ,  6.30286274, -0.35565596,  6.57092884])"
      ]
     },
     "execution_count": 28,
     "metadata": {},
     "output_type": "execute_result"
    }
   ],
   "source": [
    "def eval_model_reg1(X, y, iterations, alpha=1e-4, lambda_=1e-8):\n",
    "    np.random.seed(42)\n",
    "    W = np.random.randn(X.shape[0])\n",
    "    n = X.shape[1]\n",
    "    for i in range(1, iterations+1):\n",
    "        y_pred = np.dot(W, X)\n",
    "        err = calc_mse(y, y_pred)\n",
    "        W -= alpha * (1/n * 2 * np.dot((y_pred - y), X.T) + lambda_ * W / np.abs(W)) \n",
    "        if i % (iterations / 10) == 0:\n",
    "            print(f'# итерация: {i}, MSE: {err}, веса: {W}')\n",
    "    return W\n",
    "\n",
    "eval_model_reg1(X_st, y, iterations=5000, alpha=1e-2, lambda_=1e-4)"
   ]
  },
  {
   "cell_type": "code",
   "execution_count": null,
   "metadata": {},
   "outputs": [],
   "source": []
  }
 ],
 "metadata": {
  "colab": {
   "collapsed_sections": [],
   "name": "Lesson_2_script.ipynb",
   "provenance": []
  },
  "kernelspec": {
   "display_name": "Python 3 (ipykernel)",
   "language": "python",
   "name": "python3"
  },
  "language_info": {
   "codemirror_mode": {
    "name": "ipython",
    "version": 3
   },
   "file_extension": ".py",
   "mimetype": "text/x-python",
   "name": "python",
   "nbconvert_exporter": "python",
   "pygments_lexer": "ipython3",
   "version": "3.9.7"
  }
 },
 "nbformat": 4,
 "nbformat_minor": 1
}
